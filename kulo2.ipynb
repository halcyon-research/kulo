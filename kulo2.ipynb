{
 "metadata": {
  "language_info": {
   "codemirror_mode": {
    "name": "ipython",
    "version": 3
   },
   "file_extension": ".py",
   "mimetype": "text/x-python",
   "name": "python",
   "nbconvert_exporter": "python",
   "pygments_lexer": "ipython3",
   "version": "3.8.7-final"
  },
  "orig_nbformat": 2,
  "kernelspec": {
   "name": "python3",
   "display_name": "Python 3.8.7 64-bit",
   "metadata": {
    "interpreter": {
     "hash": "41dac9bba6d635f619ae6c05fd260bcf9133cdb0cf546411b8b40639019fde47"
    }
   }
  }
 },
 "nbformat": 4,
 "nbformat_minor": 2,
 "cells": [
  {
   "source": [
    "# Kulo"
   ],
   "cell_type": "markdown",
   "metadata": {}
  },
  {
   "source": [
    "## 1. Import geojson\n",
    "According to Wikipedia, \"GeoJSON is an open standard format designed for representing simple geographical features, along with their non-spatial attributes. It is based on the JSON format.\""
   ],
   "cell_type": "markdown",
   "metadata": {}
  },
  {
   "cell_type": "code",
   "execution_count": 27,
   "metadata": {},
   "outputs": [],
   "source": [
    "import geojson"
   ]
  },
  {
   "source": [
    "## 2. Create load_data function to load geojson data\n",
    "load_data(filename) is a simple wrapper around the Python File I/O that uses geojson to load the data into a dictionary"
   ],
   "cell_type": "markdown",
   "metadata": {}
  },
  {
   "cell_type": "code",
   "execution_count": 28,
   "metadata": {},
   "outputs": [],
   "source": [
    "def load_data(filename):\n",
    "    \"\"\"\n",
    "    Loads GeoJson Data from \"filename\"\n",
    "    \"\"\"\n",
    "    with open(filename) as f:\n",
    "        data = geojson.load(f)\n",
    "    return data\n"
   ]
  },
  {
   "source": [
    "## 3. Load data from WA DNR 1970-2007 fire statistics\n",
    "source: https://data-wadnr.opendata.arcgis.com/datasets/dnr-fire-statistics-1970-2007-1"
   ],
   "cell_type": "markdown",
   "metadata": {}
  },
  {
   "cell_type": "code",
   "execution_count": 29,
   "metadata": {},
   "outputs": [],
   "source": [
    "older_fire_data = load_data(\"data/DNR_Fire_Statistics_1970-2007.geojson\")"
   ]
  },
  {
   "source": [
    "## 3.5. load data from WA DNR 2008-present fire statistics\n",
    "source: https://data-wadnr.opendata.arcgis.com/datasets/dnr-fire-statistics-2008-present-1"
   ],
   "cell_type": "markdown",
   "metadata": {}
  },
  {
   "cell_type": "code",
   "execution_count": 30,
   "metadata": {},
   "outputs": [],
   "source": [
    "newer_fire_data = load_data(\"data/DNR_Fire_Statistics_2008_-_Present.geojson\")"
   ]
  },
  {
   "source": [
    "## 4. Pull out \"features\" section of data (that's where fire data is)"
   ],
   "cell_type": "markdown",
   "metadata": {}
  },
  {
   "cell_type": "code",
   "execution_count": 31,
   "metadata": {},
   "outputs": [],
   "source": [
    "old_fire_data = older_fire_data[\"features\"]\n",
    "new_fire_data = newer_fire_data[\"features\"]"
   ]
  },
  {
   "source": [
    "## 4.5. Examine fire data and determine the parts we need.\n",
    "As we can see, each fire has a \"geometry\" and \"properties\" attribute. From these, we want to extract the \"coordinates\" from \"geometry\", \"ACRES_BURNED\" from \"properties\", and \"START_DT\" from \"properties\" "
   ],
   "cell_type": "markdown",
   "metadata": {}
  },
  {
   "cell_type": "code",
   "execution_count": 33,
   "metadata": {},
   "outputs": [
    {
     "output_type": "stream",
     "name": "stdout",
     "text": [
      "{\"geometry\": {\"coordinates\": [-117.078338, 47.837034], \"type\": \"Point\"}, \"properties\": {\"ACRES_BURNED\": 0.1, \"COUNTY_LABEL_NM\": \"SPOKANE\", \"FIREEVNT_CLASS_LABEL_NM\": \"Classified\", \"FIREEVNT_NM\": null, \"FIREGCAUSE_LABEL_NM\": \"Recreation\", \"OBJECTID\": 2, \"START_DT\": \"1974-10-12T08:00:00Z\"}, \"type\": \"Feature\"}\n"
     ]
    }
   ],
   "source": [
    "print(old_fire_data[1])"
   ]
  },
  {
   "cell_type": "code",
   "execution_count": 34,
   "metadata": {},
   "outputs": [
    {
     "output_type": "stream",
     "name": "stdout",
     "text": [
      "{\"geometry\": {\"coordinates\": [-120.916389, 45.904957], \"type\": \"Point\"}, \"properties\": {\"ACRES_BURNED\": 0.25, \"BURNESCAPE_RSN_LABEL_NM\": \"Extinguish\", \"BURN_MERCH_AREA\": null, \"BURN_NONSTOCK_AREA\": 0.25, \"BURN_REPROD_AREA\": null, \"CONTROL_DT\": \"2017-05-23T00:00:00Z\", \"CONTROL_TM\": \"1935\", \"COUNTY_LABEL_NM\": \"KLICKITAT\", \"DSCVR_DT\": \"2017-05-23T00:00:00Z\", \"DSCVR_TM\": \"1650\", \"FIREEVENT_ID\": 50035, \"FIREEVNT_CLASS_CD\": 1, \"FIREEVNT_CLASS_LABEL_NM\": \"Classified\", \"FIREGCAUSE_LABEL_NM\": \"Debris Burn\", \"FIRESCAUSE_LABEL_NM\": \"None\", \"FIRE_OUT_DT\": \"2017-05-25T00:00:00Z\", \"FIRE_OUT_TM\": \"1300\", \"FIRE_RGE_DIR_FLG\": \"E\", \"FIRE_RGE_FRACT_NO\": 0, \"FIRE_RGE_WHOLE_NO\": 15, \"FIRE_SECT_NO\": 22, \"FIRE_TWP_FRACT_NO\": 0, \"FIRE_TWP_WHOLE_NO\": 5, \"INCIDENT_ID\": 49868, \"INCIDENT_NM\": \"Turkey Ranch\", \"INCIDENT_NO\": 7, \"LAT_COORD\": 45.904947, \"LON_COORD\": -120.916377, \"NON_DNR_RES_ORDER_NO\": null, \"OBJECTID\": 2, \"PROTECTION_TYPE\": \"DNR Protection FFPA\", \"REGION_NAME\": \"SOUTHEAST\", \"RES_ORDER_NO\": \"WA-SES-050\", \"SECTION_SUBDIV_PTS_ID\": 372894, \"SITE_ELEV\": 2000, \"START_DT\": \"2017-05-23T08:00:00Z\", \"START_JURISDICTION_AGENCY_NM\": \"DNR\", \"START_OWNER_AGENCY_NM\": \"Private\", \"START_TM\": \"1715\"}, \"type\": \"Feature\"}\n"
     ]
    }
   ],
   "source": [
    "print(new_fire_data[1])"
   ]
  },
  {
   "source": [
    "## 5. Ensure both datasets are imported by checking total number of fires \n",
    "Here, we see that the 1970-2007 data has nearly 40,000 fires, where the 2008-present set has just over 20,000. We want to combine these to get the full range of wildfire activity since 1970."
   ],
   "cell_type": "markdown",
   "metadata": {}
  },
  {
   "cell_type": "code",
   "execution_count": 35,
   "metadata": {},
   "outputs": [
    {
     "output_type": "stream",
     "name": "stdout",
     "text": [
      "38116 20703 58819\n"
     ]
    }
   ],
   "source": [
    "# get total number of fires\n",
    "old_total = len(old_fire_data)\n",
    "new_total = len(new_fire_data)\n",
    "print(old_total, new_total, old_total + new_total)"
   ]
  },
  {
   "source": [
    "## 6. Make clean dataset from both pieces of data (only data-points we need)\n",
    "\n",
    "The data we need to extract is: Date, Acreage, Coordinates"
   ],
   "cell_type": "markdown",
   "metadata": {}
  },
  {
   "cell_type": "code",
   "execution_count": 36,
   "metadata": {},
   "outputs": [],
   "source": [
    "cleaned_fire_data = []\n",
    "for fire in old_fire_data:\n",
    "    date = fire[\"properties\"][\"START_DT\"]\n",
    "    acres = fire[\"properties\"][\"ACRES_BURNED\"]\n",
    "    lon = fire[\"geometry\"][\"coordinates\"][0]\n",
    "    lat = fire[\"geometry\"][\"coordinates\"][1]\n",
    "    cleaned_fire_data.append((date, acres, lat, lon))\n",
    "\n",
    "for fire in new_fire_data: \n",
    "    date = fire[\"properties\"][\"START_DT\"]\n",
    "    acres = fire[\"properties\"][\"ACRES_BURNED\"]\n",
    "    lon = fire[\"geometry\"][\"coordinates\"][0]\n",
    "    lat = fire[\"geometry\"][\"coordinates\"][1]\n",
    "    cleaned_fire_data.append((date, acres, lat, lon))"
   ]
  },
  {
   "cell_type": "code",
   "execution_count": 37,
   "metadata": {},
   "outputs": [
    {
     "output_type": "stream",
     "name": "stdout",
     "text": [
      "58819\n"
     ]
    }
   ],
   "source": [
    "print(len(cleaned_fire_data))"
   ]
  },
  {
   "source": [
    "## 7. Import csv (comma-separated values)\n",
    "The CSV package is used to write a comma-separated file of the cleaned data, for future use."
   ],
   "cell_type": "markdown",
   "metadata": {}
  },
  {
   "cell_type": "code",
   "execution_count": 38,
   "metadata": {},
   "outputs": [],
   "source": [
    "import csv"
   ]
  },
  {
   "source": [
    "## 8. Save cleaned data to csv\n",
    "Using csv.writer(), we write a single row at a time while iterating over the nearly 60,000 fires in Washington"
   ],
   "cell_type": "markdown",
   "metadata": {}
  },
  {
   "cell_type": "code",
   "execution_count": 39,
   "metadata": {},
   "outputs": [],
   "source": [
    "with open('data/clean_fire_data.csv', 'w', newline='') as csvfile:\n",
    "    writer = csv.writer(csvfile,)\n",
    "    writer.writerow((\"date\", \"acres\", \"lat\", \"lon\"))\n",
    "    for fire in cleaned_fire_data:\n",
    "        writer.writerow(fire)"
   ]
  },
  {
   "source": [
    "## 9. Import matplotlib (for visualizing data)\n",
    "From the Matplotlib website, \"Matplotlib is a comprehensive library for creating static, animated, and interactive visualizations in Python.\""
   ],
   "cell_type": "markdown",
   "metadata": {}
  },
  {
   "cell_type": "code",
   "execution_count": 40,
   "metadata": {},
   "outputs": [],
   "source": [
    "import matplotlib.pyplot as plt"
   ]
  },
  {
   "source": [
    "## 10. Import numpy (for arrays and matrix math)\n",
    "We mostly need numpy for their np.array() function."
   ],
   "cell_type": "markdown",
   "metadata": {}
  },
  {
   "cell_type": "code",
   "execution_count": 41,
   "metadata": {},
   "outputs": [],
   "source": [
    "import numpy as np"
   ]
  },
  {
   "source": [
    "## 11. Create numpy array from fire data"
   ],
   "cell_type": "markdown",
   "metadata": {}
  },
  {
   "cell_type": "code",
   "execution_count": 42,
   "metadata": {},
   "outputs": [],
   "source": [
    "np_fire_data = np.array(cleaned_fire_data)"
   ]
  },
  {
   "source": [
    "## 12. Access column from the np array using syntax below\n",
    "np_fire_data\\[:,1\\] is the basic structure to extract all values from column 1 into a 1-d numpy array."
   ],
   "cell_type": "markdown",
   "metadata": {}
  },
  {
   "source": [
    "acres = np_fire_data[:,1]\n",
    "print(acres)"
   ],
   "cell_type": "code",
   "metadata": {},
   "execution_count": 72,
   "outputs": [
    {
     "output_type": "stream",
     "name": "stdout",
     "text": [
      "['0.01' '0.1' '40.0' ... '0.47' '0.5' '0.0']\n"
     ]
    }
   ]
  },
  {
   "source": [
    "## 13. Convert ISO8601 format date to epoch\n",
    "The DNR datasets have the start date for each fire in the ISO8601 format. For use in matplotlib, we need to switch this to the epoch format and rebuild the 1-d numpy array."
   ],
   "cell_type": "markdown",
   "metadata": {}
  },
  {
   "cell_type": "code",
   "execution_count": 70,
   "metadata": {},
   "outputs": [
    {
     "output_type": "stream",
     "name": "stdout",
     "text": [
      "[1.1874240e+09 1.5079680e+08 1.1416320e+08 ... 1.4992416e+09 1.5868512e+09\n 1.4653728e+09]\n"
     ]
    }
   ],
   "source": [
    "import dateutil.parser as dp\n",
    "\n",
    "dates = np_fire_data[:, 0]\n",
    "new_dates = []\n",
    "for date in dates:\n",
    "    new_dates.append(dp.parse(date).timestamp())\n",
    "np_new_dates = np.array(new_dates)\n",
    "print(np_new_dates)"
   ]
  },
  {
   "source": [
    "## 14. Get coordinate point columns\n",
    "Using the same strategy as above, albeit less complicated, extract the coordinate values into their own numpy arrays."
   ],
   "cell_type": "markdown",
   "metadata": {}
  },
  {
   "cell_type": "code",
   "execution_count": 69,
   "metadata": {
    "tags": []
   },
   "outputs": [
    {
     "output_type": "stream",
     "name": "stdout",
     "text": [
      "['46.473463' '47.837034' '47.837034' ... '47.552689' '48.672689'\n '47.350066']\n['-123.941779' '-117.078338' '-117.078338' ... '-117.182356' '-122.315778'\n '-118.73053']\n"
     ]
    }
   ],
   "source": [
    "lats = np_fire_data[:,2]\n",
    "print(lats)\n",
    "longs = np_fire_data[:,3]\n",
    "print(longs)"
   ]
  },
  {
   "source": [
    "## 15. Import matplotlib dates (for plotting dates on histogram)\n",
    "The mdates.epoch2num() function converts a date in the epoch format to something a little more usable in matplotlib."
   ],
   "cell_type": "markdown",
   "metadata": {}
  },
  {
   "cell_type": "code",
   "execution_count": 58,
   "metadata": {},
   "outputs": [],
   "source": [
    "import matplotlib.dates as mdates"
   ]
  },
  {
   "cell_type": "code",
   "execution_count": 59,
   "metadata": {},
   "outputs": [],
   "source": [
    "# convert the epoch format to matplotlib date format \n",
    "mpl_dates = mdates.epoch2num(np_new_dates)"
   ]
  },
  {
   "source": [
    "## 16. Plot \"wildfires by year\" in histogram\n",
    "Here, we use some of the features of pyplot, most importantly hist(), which generates a histogram. The x-axis is years, the y-axis is number of fires."
   ],
   "cell_type": "markdown",
   "metadata": {}
  },
  {
   "cell_type": "code",
   "execution_count": 66,
   "metadata": {},
   "outputs": [
    {
     "output_type": "display_data",
     "data": {
      "text/plain": "<Figure size 432x288 with 1 Axes>",
      "image/svg+xml": "<?xml version=\"1.0\" encoding=\"utf-8\" standalone=\"no\"?>\r\n<!DOCTYPE svg PUBLIC \"-//W3C//DTD SVG 1.1//EN\"\r\n  \"http://www.w3.org/Graphics/SVG/1.1/DTD/svg11.dtd\">\r\n<!-- Created with matplotlib (https://matplotlib.org/) -->\r\n<svg height=\"277.314375pt\" version=\"1.1\" viewBox=\"0 0 395.328125 277.314375\" width=\"395.328125pt\" xmlns=\"http://www.w3.org/2000/svg\" xmlns:xlink=\"http://www.w3.org/1999/xlink\">\r\n <metadata>\r\n  <rdf:RDF xmlns:cc=\"http://creativecommons.org/ns#\" xmlns:dc=\"http://purl.org/dc/elements/1.1/\" xmlns:rdf=\"http://www.w3.org/1999/02/22-rdf-syntax-ns#\">\r\n   <cc:Work>\r\n    <dc:type rdf:resource=\"http://purl.org/dc/dcmitype/StillImage\"/>\r\n    <dc:date>2021-02-16T21:23:20.412271</dc:date>\r\n    <dc:format>image/svg+xml</dc:format>\r\n    <dc:creator>\r\n     <cc:Agent>\r\n      <dc:title>Matplotlib v3.3.4, https://matplotlib.org/</dc:title>\r\n     </cc:Agent>\r\n    </dc:creator>\r\n   </cc:Work>\r\n  </rdf:RDF>\r\n </metadata>\r\n <defs>\r\n  <style type=\"text/css\">*{stroke-linecap:butt;stroke-linejoin:round;}</style>\r\n </defs>\r\n <g id=\"figure_1\">\r\n  <g id=\"patch_1\">\r\n   <path d=\"M 0 277.314375 \r\nL 395.328125 277.314375 \r\nL 395.328125 0 \r\nL 0 0 \r\nz\r\n\" style=\"fill:none;\"/>\r\n  </g>\r\n  <g id=\"axes_1\">\r\n   <g id=\"patch_2\">\r\n    <path d=\"M 53.328125 239.758125 \r\nL 388.128125 239.758125 \r\nL 388.128125 22.318125 \r\nL 53.328125 22.318125 \r\nz\r\n\" style=\"fill:#ffffff;\"/>\r\n   </g>\r\n   <g id=\"patch_3\">\r\n    <path clip-path=\"url(#p6a850b48ee)\" d=\"M 68.546307 239.758125 \r\nL 74.63358 239.758125 \r\nL 74.63358 170.693582 \r\nL 68.546307 170.693582 \r\nz\r\n\" style=\"fill:#add8e6;stroke:#808080;stroke-linejoin:miter;\"/>\r\n   </g>\r\n   <g id=\"patch_4\">\r\n    <path clip-path=\"url(#p6a850b48ee)\" d=\"M 74.63358 239.758125 \r\nL 80.720852 239.758125 \r\nL 80.720852 205.010027 \r\nL 74.63358 205.010027 \r\nz\r\n\" style=\"fill:#add8e6;stroke:#808080;stroke-linejoin:miter;\"/>\r\n   </g>\r\n   <g id=\"patch_5\">\r\n    <path clip-path=\"url(#p6a850b48ee)\" d=\"M 80.720852 239.758125 \r\nL 86.808125 239.758125 \r\nL 86.808125 98.067899 \r\nL 80.720852 98.067899 \r\nz\r\n\" style=\"fill:#add8e6;stroke:#808080;stroke-linejoin:miter;\"/>\r\n   </g>\r\n   <g id=\"patch_6\">\r\n    <path clip-path=\"url(#p6a850b48ee)\" d=\"M 86.808125 239.758125 \r\nL 92.895398 239.758125 \r\nL 92.895398 85.118298 \r\nL 86.808125 85.118298 \r\nz\r\n\" style=\"fill:#add8e6;stroke:#808080;stroke-linejoin:miter;\"/>\r\n   </g>\r\n   <g id=\"patch_7\">\r\n    <path clip-path=\"url(#p6a850b48ee)\" d=\"M 92.895398 239.758125 \r\nL 98.98267 239.758125 \r\nL 98.98267 98.71538 \r\nL 92.895398 98.71538 \r\nz\r\n\" style=\"fill:#add8e6;stroke:#808080;stroke-linejoin:miter;\"/>\r\n   </g>\r\n   <g id=\"patch_8\">\r\n    <path clip-path=\"url(#p6a850b48ee)\" d=\"M 98.98267 239.758125 \r\nL 105.069943 239.758125 \r\nL 105.069943 134.326784 \r\nL 98.98267 134.326784 \r\nz\r\n\" style=\"fill:#add8e6;stroke:#808080;stroke-linejoin:miter;\"/>\r\n   </g>\r\n   <g id=\"patch_9\">\r\n    <path clip-path=\"url(#p6a850b48ee)\" d=\"M 105.069943 239.758125 \r\nL 111.157216 239.758125 \r\nL 111.157216 160.765554 \r\nL 105.069943 160.765554 \r\nz\r\n\" style=\"fill:#add8e6;stroke:#808080;stroke-linejoin:miter;\"/>\r\n   </g>\r\n   <g id=\"patch_10\">\r\n    <path clip-path=\"url(#p6a850b48ee)\" d=\"M 111.157216 239.758125 \r\nL 117.244489 239.758125 \r\nL 117.244489 125.693716 \r\nL 111.157216 125.693716 \r\nz\r\n\" style=\"fill:#add8e6;stroke:#808080;stroke-linejoin:miter;\"/>\r\n   </g>\r\n   <g id=\"patch_11\">\r\n    <path clip-path=\"url(#p6a850b48ee)\" d=\"M 117.244489 239.758125 \r\nL 123.331761 239.758125 \r\nL 123.331761 141.341152 \r\nL 117.244489 141.341152 \r\nz\r\n\" style=\"fill:#add8e6;stroke:#808080;stroke-linejoin:miter;\"/>\r\n   </g>\r\n   <g id=\"patch_12\">\r\n    <path clip-path=\"url(#p6a850b48ee)\" d=\"M 123.331761 239.758125 \r\nL 129.419034 239.758125 \r\nL 129.419034 99.578686 \r\nL 123.331761 99.578686 \r\nz\r\n\" style=\"fill:#add8e6;stroke:#808080;stroke-linejoin:miter;\"/>\r\n   </g>\r\n   <g id=\"patch_13\">\r\n    <path clip-path=\"url(#p6a850b48ee)\" d=\"M 129.419034 239.758125 \r\nL 135.506307 239.758125 \r\nL 135.506307 175.76551 \r\nL 129.419034 175.76551 \r\nz\r\n\" style=\"fill:#add8e6;stroke:#808080;stroke-linejoin:miter;\"/>\r\n   </g>\r\n   <g id=\"patch_14\">\r\n    <path clip-path=\"url(#p6a850b48ee)\" d=\"M 135.506307 239.758125 \r\nL 141.59358 239.758125 \r\nL 141.59358 151.377093 \r\nL 135.506307 151.377093 \r\nz\r\n\" style=\"fill:#add8e6;stroke:#808080;stroke-linejoin:miter;\"/>\r\n   </g>\r\n   <g id=\"patch_15\">\r\n    <path clip-path=\"url(#p6a850b48ee)\" d=\"M 141.59358 239.758125 \r\nL 147.680852 239.758125 \r\nL 147.680852 138.751232 \r\nL 141.59358 138.751232 \r\nz\r\n\" style=\"fill:#add8e6;stroke:#808080;stroke-linejoin:miter;\"/>\r\n   </g>\r\n   <g id=\"patch_16\">\r\n    <path clip-path=\"url(#p6a850b48ee)\" d=\"M 147.680852 239.758125 \r\nL 153.768125 239.758125 \r\nL 153.768125 187.959718 \r\nL 147.680852 187.959718 \r\nz\r\n\" style=\"fill:#add8e6;stroke:#808080;stroke-linejoin:miter;\"/>\r\n   </g>\r\n   <g id=\"patch_17\">\r\n    <path clip-path=\"url(#p6a850b48ee)\" d=\"M 153.768125 239.758125 \r\nL 159.855398 239.758125 \r\nL 159.855398 135.729658 \r\nL 153.768125 135.729658 \r\nz\r\n\" style=\"fill:#add8e6;stroke:#808080;stroke-linejoin:miter;\"/>\r\n   </g>\r\n   <g id=\"patch_18\">\r\n    <path clip-path=\"url(#p6a850b48ee)\" d=\"M 159.855398 239.758125 \r\nL 165.94267 239.758125 \r\nL 165.94267 100.441993 \r\nL 159.855398 100.441993 \r\nz\r\n\" style=\"fill:#add8e6;stroke:#808080;stroke-linejoin:miter;\"/>\r\n   </g>\r\n   <g id=\"patch_19\">\r\n    <path clip-path=\"url(#p6a850b48ee)\" d=\"M 165.94267 239.758125 \r\nL 172.029943 239.758125 \r\nL 172.029943 112.312461 \r\nL 165.94267 112.312461 \r\nz\r\n\" style=\"fill:#add8e6;stroke:#808080;stroke-linejoin:miter;\"/>\r\n   </g>\r\n   <g id=\"patch_20\">\r\n    <path clip-path=\"url(#p6a850b48ee)\" d=\"M 172.029943 239.758125 \r\nL 178.117216 239.758125 \r\nL 178.117216 71.737043 \r\nL 172.029943 71.737043 \r\nz\r\n\" style=\"fill:#add8e6;stroke:#808080;stroke-linejoin:miter;\"/>\r\n   </g>\r\n   <g id=\"patch_21\">\r\n    <path clip-path=\"url(#p6a850b48ee)\" d=\"M 178.117216 239.758125 \r\nL 184.204489 239.758125 \r\nL 184.204489 106.161401 \r\nL 178.117216 106.161401 \r\nz\r\n\" style=\"fill:#add8e6;stroke:#808080;stroke-linejoin:miter;\"/>\r\n   </g>\r\n   <g id=\"patch_22\">\r\n    <path clip-path=\"url(#p6a850b48ee)\" d=\"M 184.204489 239.758125 \r\nL 190.291761 239.758125 \r\nL 190.291761 98.823293 \r\nL 184.204489 98.823293 \r\nz\r\n\" style=\"fill:#add8e6;stroke:#808080;stroke-linejoin:miter;\"/>\r\n   </g>\r\n   <g id=\"patch_23\">\r\n    <path clip-path=\"url(#p6a850b48ee)\" d=\"M 190.291761 239.758125 \r\nL 196.379034 239.758125 \r\nL 196.379034 117.600215 \r\nL 190.291761 117.600215 \r\nz\r\n\" style=\"fill:#add8e6;stroke:#808080;stroke-linejoin:miter;\"/>\r\n   </g>\r\n   <g id=\"patch_24\">\r\n    <path clip-path=\"url(#p6a850b48ee)\" d=\"M 196.379034 239.758125 \r\nL 202.466307 239.758125 \r\nL 202.466307 74.86653 \r\nL 196.379034 74.86653 \r\nz\r\n\" style=\"fill:#add8e6;stroke:#808080;stroke-linejoin:miter;\"/>\r\n   </g>\r\n   <g id=\"patch_25\">\r\n    <path clip-path=\"url(#p6a850b48ee)\" d=\"M 202.466307 239.758125 \r\nL 208.55358 239.758125 \r\nL 208.55358 155.4778 \r\nL 202.466307 155.4778 \r\nz\r\n\" style=\"fill:#add8e6;stroke:#808080;stroke-linejoin:miter;\"/>\r\n   </g>\r\n   <g id=\"patch_26\">\r\n    <path clip-path=\"url(#p6a850b48ee)\" d=\"M 208.55358 239.758125 \r\nL 214.640852 239.758125 \r\nL 214.640852 100.118253 \r\nL 208.55358 100.118253 \r\nz\r\n\" style=\"fill:#add8e6;stroke:#808080;stroke-linejoin:miter;\"/>\r\n   </g>\r\n   <g id=\"patch_27\">\r\n    <path clip-path=\"url(#p6a850b48ee)\" d=\"M 214.640852 239.758125 \r\nL 220.728125 239.758125 \r\nL 220.728125 130.118164 \r\nL 214.640852 130.118164 \r\nz\r\n\" style=\"fill:#add8e6;stroke:#808080;stroke-linejoin:miter;\"/>\r\n   </g>\r\n   <g id=\"patch_28\">\r\n    <path clip-path=\"url(#p6a850b48ee)\" d=\"M 220.728125 239.758125 \r\nL 226.815398 239.758125 \r\nL 226.815398 134.974264 \r\nL 220.728125 134.974264 \r\nz\r\n\" style=\"fill:#add8e6;stroke:#808080;stroke-linejoin:miter;\"/>\r\n   </g>\r\n   <g id=\"patch_29\">\r\n    <path clip-path=\"url(#p6a850b48ee)\" d=\"M 226.815398 239.758125 \r\nL 232.90267 239.758125 \r\nL 232.90267 146.952646 \r\nL 226.815398 146.952646 \r\nz\r\n\" style=\"fill:#add8e6;stroke:#808080;stroke-linejoin:miter;\"/>\r\n   </g>\r\n   <g id=\"patch_30\">\r\n    <path clip-path=\"url(#p6a850b48ee)\" d=\"M 232.90267 239.758125 \r\nL 238.989943 239.758125 \r\nL 238.989943 135.945484 \r\nL 232.90267 135.945484 \r\nz\r\n\" style=\"fill:#add8e6;stroke:#808080;stroke-linejoin:miter;\"/>\r\n   </g>\r\n   <g id=\"patch_31\">\r\n    <path clip-path=\"url(#p6a850b48ee)\" d=\"M 238.989943 239.758125 \r\nL 245.077216 239.758125 \r\nL 245.077216 119.758482 \r\nL 238.989943 119.758482 \r\nz\r\n\" style=\"fill:#add8e6;stroke:#808080;stroke-linejoin:miter;\"/>\r\n   </g>\r\n   <g id=\"patch_32\">\r\n    <path clip-path=\"url(#p6a850b48ee)\" d=\"M 245.077216 239.758125 \r\nL 251.164489 239.758125 \r\nL 251.164489 127.09659 \r\nL 245.077216 127.09659 \r\nz\r\n\" style=\"fill:#add8e6;stroke:#808080;stroke-linejoin:miter;\"/>\r\n   </g>\r\n   <g id=\"patch_33\">\r\n    <path clip-path=\"url(#p6a850b48ee)\" d=\"M 251.164489 239.758125 \r\nL 257.251761 239.758125 \r\nL 257.251761 138.427491 \r\nL 251.164489 138.427491 \r\nz\r\n\" style=\"fill:#add8e6;stroke:#808080;stroke-linejoin:miter;\"/>\r\n   </g>\r\n   <g id=\"patch_34\">\r\n    <path clip-path=\"url(#p6a850b48ee)\" d=\"M 257.251761 239.758125 \r\nL 263.339034 239.758125 \r\nL 263.339034 138.427491 \r\nL 257.251761 138.427491 \r\nz\r\n\" style=\"fill:#add8e6;stroke:#808080;stroke-linejoin:miter;\"/>\r\n   </g>\r\n   <g id=\"patch_35\">\r\n    <path clip-path=\"url(#p6a850b48ee)\" d=\"M 263.339034 239.758125 \r\nL 269.426307 239.758125 \r\nL 269.426307 119.003089 \r\nL 263.339034 119.003089 \r\nz\r\n\" style=\"fill:#add8e6;stroke:#808080;stroke-linejoin:miter;\"/>\r\n   </g>\r\n   <g id=\"patch_36\">\r\n    <path clip-path=\"url(#p6a850b48ee)\" d=\"M 269.426307 239.758125 \r\nL 275.51358 239.758125 \r\nL 275.51358 118.787262 \r\nL 269.426307 118.787262 \r\nz\r\n\" style=\"fill:#add8e6;stroke:#808080;stroke-linejoin:miter;\"/>\r\n   </g>\r\n   <g id=\"patch_37\">\r\n    <path clip-path=\"url(#p6a850b48ee)\" d=\"M 275.51358 239.758125 \r\nL 281.600852 239.758125 \r\nL 281.600852 149.758393 \r\nL 275.51358 149.758393 \r\nz\r\n\" style=\"fill:#add8e6;stroke:#808080;stroke-linejoin:miter;\"/>\r\n   </g>\r\n   <g id=\"patch_38\">\r\n    <path clip-path=\"url(#p6a850b48ee)\" d=\"M 281.600852 239.758125 \r\nL 287.688125 239.758125 \r\nL 287.688125 107.348447 \r\nL 281.600852 107.348447 \r\nz\r\n\" style=\"fill:#add8e6;stroke:#808080;stroke-linejoin:miter;\"/>\r\n   </g>\r\n   <g id=\"patch_39\">\r\n    <path clip-path=\"url(#p6a850b48ee)\" d=\"M 287.688125 239.758125 \r\nL 293.775398 239.758125 \r\nL 293.775398 138.859145 \r\nL 287.688125 138.859145 \r\nz\r\n\" style=\"fill:#add8e6;stroke:#808080;stroke-linejoin:miter;\"/>\r\n   </g>\r\n   <g id=\"patch_40\">\r\n    <path clip-path=\"url(#p6a850b48ee)\" d=\"M 293.775398 239.758125 \r\nL 299.86267 239.758125 \r\nL 299.86267 78.75141 \r\nL 293.775398 78.75141 \r\nz\r\n\" style=\"fill:#add8e6;stroke:#808080;stroke-linejoin:miter;\"/>\r\n   </g>\r\n   <g id=\"patch_41\">\r\n    <path clip-path=\"url(#p6a850b48ee)\" d=\"M 299.86267 239.758125 \r\nL 305.949943 239.758125 \r\nL 305.949943 32.672411 \r\nL 299.86267 32.672411 \r\nz\r\n\" style=\"fill:#add8e6;stroke:#808080;stroke-linejoin:miter;\"/>\r\n   </g>\r\n   <g id=\"patch_42\">\r\n    <path clip-path=\"url(#p6a850b48ee)\" d=\"M 305.949943 239.758125 \r\nL 312.037216 239.758125 \r\nL 312.037216 120.513876 \r\nL 305.949943 120.513876 \r\nz\r\n\" style=\"fill:#add8e6;stroke:#808080;stroke-linejoin:miter;\"/>\r\n   </g>\r\n   <g id=\"patch_43\">\r\n    <path clip-path=\"url(#p6a850b48ee)\" d=\"M 312.037216 239.758125 \r\nL 318.124489 239.758125 \r\nL 318.124489 115.765688 \r\nL 312.037216 115.765688 \r\nz\r\n\" style=\"fill:#add8e6;stroke:#808080;stroke-linejoin:miter;\"/>\r\n   </g>\r\n   <g id=\"patch_44\">\r\n    <path clip-path=\"url(#p6a850b48ee)\" d=\"M 318.124489 239.758125 \r\nL 324.211761 239.758125 \r\nL 324.211761 68.607556 \r\nL 318.124489 68.607556 \r\nz\r\n\" style=\"fill:#add8e6;stroke:#808080;stroke-linejoin:miter;\"/>\r\n   </g>\r\n   <g id=\"patch_45\">\r\n    <path clip-path=\"url(#p6a850b48ee)\" d=\"M 324.211761 239.758125 \r\nL 330.299034 239.758125 \r\nL 330.299034 83.391684 \r\nL 324.211761 83.391684 \r\nz\r\n\" style=\"fill:#add8e6;stroke:#808080;stroke-linejoin:miter;\"/>\r\n   </g>\r\n   <g id=\"patch_46\">\r\n    <path clip-path=\"url(#p6a850b48ee)\" d=\"M 330.299034 239.758125 \r\nL 336.386307 239.758125 \r\nL 336.386307 56.305434 \r\nL 330.299034 56.305434 \r\nz\r\n\" style=\"fill:#add8e6;stroke:#808080;stroke-linejoin:miter;\"/>\r\n   </g>\r\n   <g id=\"patch_47\">\r\n    <path clip-path=\"url(#p6a850b48ee)\" d=\"M 336.386307 239.758125 \r\nL 342.47358 239.758125 \r\nL 342.47358 41.737132 \r\nL 336.386307 41.737132 \r\nz\r\n\" style=\"fill:#add8e6;stroke:#808080;stroke-linejoin:miter;\"/>\r\n   </g>\r\n   <g id=\"patch_48\">\r\n    <path clip-path=\"url(#p6a850b48ee)\" d=\"M 342.47358 239.758125 \r\nL 348.560852 239.758125 \r\nL 348.560852 91.269359 \r\nL 342.47358 91.269359 \r\nz\r\n\" style=\"fill:#add8e6;stroke:#808080;stroke-linejoin:miter;\"/>\r\n   </g>\r\n   <g id=\"patch_49\">\r\n    <path clip-path=\"url(#p6a850b48ee)\" d=\"M 348.560852 239.758125 \r\nL 354.648125 239.758125 \r\nL 354.648125 80.478024 \r\nL 348.560852 80.478024 \r\nz\r\n\" style=\"fill:#add8e6;stroke:#808080;stroke-linejoin:miter;\"/>\r\n   </g>\r\n   <g id=\"patch_50\">\r\n    <path clip-path=\"url(#p6a850b48ee)\" d=\"M 354.648125 239.758125 \r\nL 360.735398 239.758125 \r\nL 360.735398 36.665205 \r\nL 354.648125 36.665205 \r\nz\r\n\" style=\"fill:#add8e6;stroke:#808080;stroke-linejoin:miter;\"/>\r\n   </g>\r\n   <g id=\"patch_51\">\r\n    <path clip-path=\"url(#p6a850b48ee)\" d=\"M 360.735398 239.758125 \r\nL 366.82267 239.758125 \r\nL 366.82267 45.514099 \r\nL 360.735398 45.514099 \r\nz\r\n\" style=\"fill:#add8e6;stroke:#808080;stroke-linejoin:miter;\"/>\r\n   </g>\r\n   <g id=\"patch_52\">\r\n    <path clip-path=\"url(#p6a850b48ee)\" d=\"M 366.82267 239.758125 \r\nL 372.909943 239.758125 \r\nL 372.909943 36.988945 \r\nL 366.82267 36.988945 \r\nz\r\n\" style=\"fill:#add8e6;stroke:#808080;stroke-linejoin:miter;\"/>\r\n   </g>\r\n   <g id=\"matplotlib.axis_1\">\r\n    <g id=\"xtick_1\">\r\n     <g id=\"line2d_1\">\r\n      <defs>\r\n       <path d=\"M 0 0 \r\nL 0 3.5 \r\n\" id=\"med83a492b8\" style=\"stroke:#000000;stroke-width:0.8;\"/>\r\n      </defs>\r\n      <g>\r\n       <use style=\"stroke:#000000;stroke-width:0.8;\" x=\"67.591915\" xlink:href=\"#med83a492b8\" y=\"239.758125\"/>\r\n      </g>\r\n     </g>\r\n     <g id=\"text_1\">\r\n      <!-- 1970 -->\r\n      <g transform=\"translate(54.866915 254.356562)scale(0.1 -0.1)\">\r\n       <defs>\r\n        <path d=\"M 12.40625 8.296875 \r\nL 28.515625 8.296875 \r\nL 28.515625 63.921875 \r\nL 10.984375 60.40625 \r\nL 10.984375 69.390625 \r\nL 28.421875 72.90625 \r\nL 38.28125 72.90625 \r\nL 38.28125 8.296875 \r\nL 54.390625 8.296875 \r\nL 54.390625 0 \r\nL 12.40625 0 \r\nz\r\n\" id=\"DejaVuSans-49\"/>\r\n        <path d=\"M 10.984375 1.515625 \r\nL 10.984375 10.5 \r\nQ 14.703125 8.734375 18.5 7.8125 \r\nQ 22.3125 6.890625 25.984375 6.890625 \r\nQ 35.75 6.890625 40.890625 13.453125 \r\nQ 46.046875 20.015625 46.78125 33.40625 \r\nQ 43.953125 29.203125 39.59375 26.953125 \r\nQ 35.25 24.703125 29.984375 24.703125 \r\nQ 19.046875 24.703125 12.671875 31.3125 \r\nQ 6.296875 37.9375 6.296875 49.421875 \r\nQ 6.296875 60.640625 12.9375 67.421875 \r\nQ 19.578125 74.21875 30.609375 74.21875 \r\nQ 43.265625 74.21875 49.921875 64.515625 \r\nQ 56.59375 54.828125 56.59375 36.375 \r\nQ 56.59375 19.140625 48.40625 8.859375 \r\nQ 40.234375 -1.421875 26.421875 -1.421875 \r\nQ 22.703125 -1.421875 18.890625 -0.6875 \r\nQ 15.09375 0.046875 10.984375 1.515625 \r\nz\r\nM 30.609375 32.421875 \r\nQ 37.25 32.421875 41.125 36.953125 \r\nQ 45.015625 41.5 45.015625 49.421875 \r\nQ 45.015625 57.28125 41.125 61.84375 \r\nQ 37.25 66.40625 30.609375 66.40625 \r\nQ 23.96875 66.40625 20.09375 61.84375 \r\nQ 16.21875 57.28125 16.21875 49.421875 \r\nQ 16.21875 41.5 20.09375 36.953125 \r\nQ 23.96875 32.421875 30.609375 32.421875 \r\nz\r\n\" id=\"DejaVuSans-57\"/>\r\n        <path d=\"M 8.203125 72.90625 \r\nL 55.078125 72.90625 \r\nL 55.078125 68.703125 \r\nL 28.609375 0 \r\nL 18.3125 0 \r\nL 43.21875 64.59375 \r\nL 8.203125 64.59375 \r\nz\r\n\" id=\"DejaVuSans-55\"/>\r\n        <path d=\"M 31.78125 66.40625 \r\nQ 24.171875 66.40625 20.328125 58.90625 \r\nQ 16.5 51.421875 16.5 36.375 \r\nQ 16.5 21.390625 20.328125 13.890625 \r\nQ 24.171875 6.390625 31.78125 6.390625 \r\nQ 39.453125 6.390625 43.28125 13.890625 \r\nQ 47.125 21.390625 47.125 36.375 \r\nQ 47.125 51.421875 43.28125 58.90625 \r\nQ 39.453125 66.40625 31.78125 66.40625 \r\nz\r\nM 31.78125 74.21875 \r\nQ 44.046875 74.21875 50.515625 64.515625 \r\nQ 56.984375 54.828125 56.984375 36.375 \r\nQ 56.984375 17.96875 50.515625 8.265625 \r\nQ 44.046875 -1.421875 31.78125 -1.421875 \r\nQ 19.53125 -1.421875 13.0625 8.265625 \r\nQ 6.59375 17.96875 6.59375 36.375 \r\nQ 6.59375 54.828125 13.0625 64.515625 \r\nQ 19.53125 74.21875 31.78125 74.21875 \r\nz\r\n\" id=\"DejaVuSans-48\"/>\r\n       </defs>\r\n       <use xlink:href=\"#DejaVuSans-49\"/>\r\n       <use x=\"63.623047\" xlink:href=\"#DejaVuSans-57\"/>\r\n       <use x=\"127.246094\" xlink:href=\"#DejaVuSans-55\"/>\r\n       <use x=\"190.869141\" xlink:href=\"#DejaVuSans-48\"/>\r\n      </g>\r\n     </g>\r\n    </g>\r\n    <g id=\"xtick_2\">\r\n     <g id=\"line2d_2\">\r\n      <g>\r\n       <use style=\"stroke:#000000;stroke-width:0.8;\" x=\"127.342278\" xlink:href=\"#med83a492b8\" y=\"239.758125\"/>\r\n      </g>\r\n     </g>\r\n     <g id=\"text_2\">\r\n      <!-- 1980 -->\r\n      <g transform=\"translate(114.617278 254.356562)scale(0.1 -0.1)\">\r\n       <defs>\r\n        <path d=\"M 31.78125 34.625 \r\nQ 24.75 34.625 20.71875 30.859375 \r\nQ 16.703125 27.09375 16.703125 20.515625 \r\nQ 16.703125 13.921875 20.71875 10.15625 \r\nQ 24.75 6.390625 31.78125 6.390625 \r\nQ 38.8125 6.390625 42.859375 10.171875 \r\nQ 46.921875 13.96875 46.921875 20.515625 \r\nQ 46.921875 27.09375 42.890625 30.859375 \r\nQ 38.875 34.625 31.78125 34.625 \r\nz\r\nM 21.921875 38.8125 \r\nQ 15.578125 40.375 12.03125 44.71875 \r\nQ 8.5 49.078125 8.5 55.328125 \r\nQ 8.5 64.0625 14.71875 69.140625 \r\nQ 20.953125 74.21875 31.78125 74.21875 \r\nQ 42.671875 74.21875 48.875 69.140625 \r\nQ 55.078125 64.0625 55.078125 55.328125 \r\nQ 55.078125 49.078125 51.53125 44.71875 \r\nQ 48 40.375 41.703125 38.8125 \r\nQ 48.828125 37.15625 52.796875 32.3125 \r\nQ 56.78125 27.484375 56.78125 20.515625 \r\nQ 56.78125 9.90625 50.3125 4.234375 \r\nQ 43.84375 -1.421875 31.78125 -1.421875 \r\nQ 19.734375 -1.421875 13.25 4.234375 \r\nQ 6.78125 9.90625 6.78125 20.515625 \r\nQ 6.78125 27.484375 10.78125 32.3125 \r\nQ 14.796875 37.15625 21.921875 38.8125 \r\nz\r\nM 18.3125 54.390625 \r\nQ 18.3125 48.734375 21.84375 45.5625 \r\nQ 25.390625 42.390625 31.78125 42.390625 \r\nQ 38.140625 42.390625 41.71875 45.5625 \r\nQ 45.3125 48.734375 45.3125 54.390625 \r\nQ 45.3125 60.0625 41.71875 63.234375 \r\nQ 38.140625 66.40625 31.78125 66.40625 \r\nQ 25.390625 66.40625 21.84375 63.234375 \r\nQ 18.3125 60.0625 18.3125 54.390625 \r\nz\r\n\" id=\"DejaVuSans-56\"/>\r\n       </defs>\r\n       <use xlink:href=\"#DejaVuSans-49\"/>\r\n       <use x=\"63.623047\" xlink:href=\"#DejaVuSans-57\"/>\r\n       <use x=\"127.246094\" xlink:href=\"#DejaVuSans-56\"/>\r\n       <use x=\"190.869141\" xlink:href=\"#DejaVuSans-48\"/>\r\n      </g>\r\n     </g>\r\n    </g>\r\n    <g id=\"xtick_3\">\r\n     <g id=\"line2d_3\">\r\n      <g>\r\n       <use style=\"stroke:#000000;stroke-width:0.8;\" x=\"187.109002\" xlink:href=\"#med83a492b8\" y=\"239.758125\"/>\r\n      </g>\r\n     </g>\r\n     <g id=\"text_3\">\r\n      <!-- 1990 -->\r\n      <g transform=\"translate(174.384002 254.356562)scale(0.1 -0.1)\">\r\n       <use xlink:href=\"#DejaVuSans-49\"/>\r\n       <use x=\"63.623047\" xlink:href=\"#DejaVuSans-57\"/>\r\n       <use x=\"127.246094\" xlink:href=\"#DejaVuSans-57\"/>\r\n       <use x=\"190.869141\" xlink:href=\"#DejaVuSans-48\"/>\r\n      </g>\r\n     </g>\r\n    </g>\r\n    <g id=\"xtick_4\">\r\n     <g id=\"line2d_4\">\r\n      <g>\r\n       <use style=\"stroke:#000000;stroke-width:0.8;\" x=\"246.859365\" xlink:href=\"#med83a492b8\" y=\"239.758125\"/>\r\n      </g>\r\n     </g>\r\n     <g id=\"text_4\">\r\n      <!-- 2000 -->\r\n      <g transform=\"translate(234.134365 254.356562)scale(0.1 -0.1)\">\r\n       <defs>\r\n        <path d=\"M 19.1875 8.296875 \r\nL 53.609375 8.296875 \r\nL 53.609375 0 \r\nL 7.328125 0 \r\nL 7.328125 8.296875 \r\nQ 12.9375 14.109375 22.625 23.890625 \r\nQ 32.328125 33.6875 34.8125 36.53125 \r\nQ 39.546875 41.84375 41.421875 45.53125 \r\nQ 43.3125 49.21875 43.3125 52.78125 \r\nQ 43.3125 58.59375 39.234375 62.25 \r\nQ 35.15625 65.921875 28.609375 65.921875 \r\nQ 23.96875 65.921875 18.8125 64.3125 \r\nQ 13.671875 62.703125 7.8125 59.421875 \r\nL 7.8125 69.390625 \r\nQ 13.765625 71.78125 18.9375 73 \r\nQ 24.125 74.21875 28.421875 74.21875 \r\nQ 39.75 74.21875 46.484375 68.546875 \r\nQ 53.21875 62.890625 53.21875 53.421875 \r\nQ 53.21875 48.921875 51.53125 44.890625 \r\nQ 49.859375 40.875 45.40625 35.40625 \r\nQ 44.1875 33.984375 37.640625 27.21875 \r\nQ 31.109375 20.453125 19.1875 8.296875 \r\nz\r\n\" id=\"DejaVuSans-50\"/>\r\n       </defs>\r\n       <use xlink:href=\"#DejaVuSans-50\"/>\r\n       <use x=\"63.623047\" xlink:href=\"#DejaVuSans-48\"/>\r\n       <use x=\"127.246094\" xlink:href=\"#DejaVuSans-48\"/>\r\n       <use x=\"190.869141\" xlink:href=\"#DejaVuSans-48\"/>\r\n      </g>\r\n     </g>\r\n    </g>\r\n    <g id=\"xtick_5\">\r\n     <g id=\"line2d_5\">\r\n      <g>\r\n       <use style=\"stroke:#000000;stroke-width:0.8;\" x=\"306.626089\" xlink:href=\"#med83a492b8\" y=\"239.758125\"/>\r\n      </g>\r\n     </g>\r\n     <g id=\"text_5\">\r\n      <!-- 2010 -->\r\n      <g transform=\"translate(293.901089 254.356562)scale(0.1 -0.1)\">\r\n       <use xlink:href=\"#DejaVuSans-50\"/>\r\n       <use x=\"63.623047\" xlink:href=\"#DejaVuSans-48\"/>\r\n       <use x=\"127.246094\" xlink:href=\"#DejaVuSans-49\"/>\r\n       <use x=\"190.869141\" xlink:href=\"#DejaVuSans-48\"/>\r\n      </g>\r\n     </g>\r\n    </g>\r\n    <g id=\"xtick_6\">\r\n     <g id=\"line2d_6\">\r\n      <g>\r\n       <use style=\"stroke:#000000;stroke-width:0.8;\" x=\"366.376452\" xlink:href=\"#med83a492b8\" y=\"239.758125\"/>\r\n      </g>\r\n     </g>\r\n     <g id=\"text_6\">\r\n      <!-- 2020 -->\r\n      <g transform=\"translate(353.651452 254.356562)scale(0.1 -0.1)\">\r\n       <use xlink:href=\"#DejaVuSans-50\"/>\r\n       <use x=\"63.623047\" xlink:href=\"#DejaVuSans-48\"/>\r\n       <use x=\"127.246094\" xlink:href=\"#DejaVuSans-50\"/>\r\n       <use x=\"190.869141\" xlink:href=\"#DejaVuSans-48\"/>\r\n      </g>\r\n     </g>\r\n    </g>\r\n    <g id=\"text_7\">\r\n     <!-- Year -->\r\n     <g transform=\"translate(210.140625 268.034687)scale(0.1 -0.1)\">\r\n      <defs>\r\n       <path d=\"M -0.203125 72.90625 \r\nL 10.40625 72.90625 \r\nL 30.609375 42.921875 \r\nL 50.6875 72.90625 \r\nL 61.28125 72.90625 \r\nL 35.5 34.71875 \r\nL 35.5 0 \r\nL 25.59375 0 \r\nL 25.59375 34.71875 \r\nz\r\n\" id=\"DejaVuSans-89\"/>\r\n       <path d=\"M 56.203125 29.59375 \r\nL 56.203125 25.203125 \r\nL 14.890625 25.203125 \r\nQ 15.484375 15.921875 20.484375 11.0625 \r\nQ 25.484375 6.203125 34.421875 6.203125 \r\nQ 39.59375 6.203125 44.453125 7.46875 \r\nQ 49.3125 8.734375 54.109375 11.28125 \r\nL 54.109375 2.78125 \r\nQ 49.265625 0.734375 44.1875 -0.34375 \r\nQ 39.109375 -1.421875 33.890625 -1.421875 \r\nQ 20.796875 -1.421875 13.15625 6.1875 \r\nQ 5.515625 13.8125 5.515625 26.8125 \r\nQ 5.515625 40.234375 12.765625 48.109375 \r\nQ 20.015625 56 32.328125 56 \r\nQ 43.359375 56 49.78125 48.890625 \r\nQ 56.203125 41.796875 56.203125 29.59375 \r\nz\r\nM 47.21875 32.234375 \r\nQ 47.125 39.59375 43.09375 43.984375 \r\nQ 39.0625 48.390625 32.421875 48.390625 \r\nQ 24.90625 48.390625 20.390625 44.140625 \r\nQ 15.875 39.890625 15.1875 32.171875 \r\nz\r\n\" id=\"DejaVuSans-101\"/>\r\n       <path d=\"M 34.28125 27.484375 \r\nQ 23.390625 27.484375 19.1875 25 \r\nQ 14.984375 22.515625 14.984375 16.5 \r\nQ 14.984375 11.71875 18.140625 8.90625 \r\nQ 21.296875 6.109375 26.703125 6.109375 \r\nQ 34.1875 6.109375 38.703125 11.40625 \r\nQ 43.21875 16.703125 43.21875 25.484375 \r\nL 43.21875 27.484375 \r\nz\r\nM 52.203125 31.203125 \r\nL 52.203125 0 \r\nL 43.21875 0 \r\nL 43.21875 8.296875 \r\nQ 40.140625 3.328125 35.546875 0.953125 \r\nQ 30.953125 -1.421875 24.3125 -1.421875 \r\nQ 15.921875 -1.421875 10.953125 3.296875 \r\nQ 6 8.015625 6 15.921875 \r\nQ 6 25.140625 12.171875 29.828125 \r\nQ 18.359375 34.515625 30.609375 34.515625 \r\nL 43.21875 34.515625 \r\nL 43.21875 35.40625 \r\nQ 43.21875 41.609375 39.140625 45 \r\nQ 35.0625 48.390625 27.6875 48.390625 \r\nQ 23 48.390625 18.546875 47.265625 \r\nQ 14.109375 46.140625 10.015625 43.890625 \r\nL 10.015625 52.203125 \r\nQ 14.9375 54.109375 19.578125 55.046875 \r\nQ 24.21875 56 28.609375 56 \r\nQ 40.484375 56 46.34375 49.84375 \r\nQ 52.203125 43.703125 52.203125 31.203125 \r\nz\r\n\" id=\"DejaVuSans-97\"/>\r\n       <path d=\"M 41.109375 46.296875 \r\nQ 39.59375 47.171875 37.8125 47.578125 \r\nQ 36.03125 48 33.890625 48 \r\nQ 26.265625 48 22.1875 43.046875 \r\nQ 18.109375 38.09375 18.109375 28.8125 \r\nL 18.109375 0 \r\nL 9.078125 0 \r\nL 9.078125 54.6875 \r\nL 18.109375 54.6875 \r\nL 18.109375 46.1875 \r\nQ 20.953125 51.171875 25.484375 53.578125 \r\nQ 30.03125 56 36.53125 56 \r\nQ 37.453125 56 38.578125 55.875 \r\nQ 39.703125 55.765625 41.0625 55.515625 \r\nz\r\n\" id=\"DejaVuSans-114\"/>\r\n      </defs>\r\n      <use xlink:href=\"#DejaVuSans-89\"/>\r\n      <use x=\"47.833984\" xlink:href=\"#DejaVuSans-101\"/>\r\n      <use x=\"109.357422\" xlink:href=\"#DejaVuSans-97\"/>\r\n      <use x=\"170.636719\" xlink:href=\"#DejaVuSans-114\"/>\r\n     </g>\r\n    </g>\r\n   </g>\r\n   <g id=\"matplotlib.axis_2\">\r\n    <g id=\"ytick_1\">\r\n     <g id=\"line2d_7\">\r\n      <defs>\r\n       <path d=\"M 0 0 \r\nL -3.5 0 \r\n\" id=\"m20eac44228\" style=\"stroke:#000000;stroke-width:0.8;\"/>\r\n      </defs>\r\n      <g>\r\n       <use style=\"stroke:#000000;stroke-width:0.8;\" x=\"53.328125\" xlink:href=\"#m20eac44228\" y=\"239.758125\"/>\r\n      </g>\r\n     </g>\r\n     <g id=\"text_8\">\r\n      <!-- 0 -->\r\n      <g transform=\"translate(39.965625 243.557344)scale(0.1 -0.1)\">\r\n       <use xlink:href=\"#DejaVuSans-48\"/>\r\n      </g>\r\n     </g>\r\n    </g>\r\n    <g id=\"ytick_2\">\r\n     <g id=\"line2d_8\">\r\n      <g>\r\n       <use style=\"stroke:#000000;stroke-width:0.8;\" x=\"53.328125\" xlink:href=\"#m20eac44228\" y=\"212.779788\"/>\r\n      </g>\r\n     </g>\r\n     <g id=\"text_9\">\r\n      <!-- 250 -->\r\n      <g transform=\"translate(27.240625 216.579007)scale(0.1 -0.1)\">\r\n       <defs>\r\n        <path d=\"M 10.796875 72.90625 \r\nL 49.515625 72.90625 \r\nL 49.515625 64.59375 \r\nL 19.828125 64.59375 \r\nL 19.828125 46.734375 \r\nQ 21.96875 47.46875 24.109375 47.828125 \r\nQ 26.265625 48.1875 28.421875 48.1875 \r\nQ 40.625 48.1875 47.75 41.5 \r\nQ 54.890625 34.8125 54.890625 23.390625 \r\nQ 54.890625 11.625 47.5625 5.09375 \r\nQ 40.234375 -1.421875 26.90625 -1.421875 \r\nQ 22.3125 -1.421875 17.546875 -0.640625 \r\nQ 12.796875 0.140625 7.71875 1.703125 \r\nL 7.71875 11.625 \r\nQ 12.109375 9.234375 16.796875 8.0625 \r\nQ 21.484375 6.890625 26.703125 6.890625 \r\nQ 35.15625 6.890625 40.078125 11.328125 \r\nQ 45.015625 15.765625 45.015625 23.390625 \r\nQ 45.015625 31 40.078125 35.4375 \r\nQ 35.15625 39.890625 26.703125 39.890625 \r\nQ 22.75 39.890625 18.8125 39.015625 \r\nQ 14.890625 38.140625 10.796875 36.28125 \r\nz\r\n\" id=\"DejaVuSans-53\"/>\r\n       </defs>\r\n       <use xlink:href=\"#DejaVuSans-50\"/>\r\n       <use x=\"63.623047\" xlink:href=\"#DejaVuSans-53\"/>\r\n       <use x=\"127.246094\" xlink:href=\"#DejaVuSans-48\"/>\r\n      </g>\r\n     </g>\r\n    </g>\r\n    <g id=\"ytick_3\">\r\n     <g id=\"line2d_9\">\r\n      <g>\r\n       <use style=\"stroke:#000000;stroke-width:0.8;\" x=\"53.328125\" xlink:href=\"#m20eac44228\" y=\"185.801451\"/>\r\n      </g>\r\n     </g>\r\n     <g id=\"text_10\">\r\n      <!-- 500 -->\r\n      <g transform=\"translate(27.240625 189.60067)scale(0.1 -0.1)\">\r\n       <use xlink:href=\"#DejaVuSans-53\"/>\r\n       <use x=\"63.623047\" xlink:href=\"#DejaVuSans-48\"/>\r\n       <use x=\"127.246094\" xlink:href=\"#DejaVuSans-48\"/>\r\n      </g>\r\n     </g>\r\n    </g>\r\n    <g id=\"ytick_4\">\r\n     <g id=\"line2d_10\">\r\n      <g>\r\n       <use style=\"stroke:#000000;stroke-width:0.8;\" x=\"53.328125\" xlink:href=\"#m20eac44228\" y=\"158.823114\"/>\r\n      </g>\r\n     </g>\r\n     <g id=\"text_11\">\r\n      <!-- 750 -->\r\n      <g transform=\"translate(27.240625 162.622333)scale(0.1 -0.1)\">\r\n       <use xlink:href=\"#DejaVuSans-55\"/>\r\n       <use x=\"63.623047\" xlink:href=\"#DejaVuSans-53\"/>\r\n       <use x=\"127.246094\" xlink:href=\"#DejaVuSans-48\"/>\r\n      </g>\r\n     </g>\r\n    </g>\r\n    <g id=\"ytick_5\">\r\n     <g id=\"line2d_11\">\r\n      <g>\r\n       <use style=\"stroke:#000000;stroke-width:0.8;\" x=\"53.328125\" xlink:href=\"#m20eac44228\" y=\"131.844777\"/>\r\n      </g>\r\n     </g>\r\n     <g id=\"text_12\">\r\n      <!-- 1000 -->\r\n      <g transform=\"translate(20.878125 135.643996)scale(0.1 -0.1)\">\r\n       <use xlink:href=\"#DejaVuSans-49\"/>\r\n       <use x=\"63.623047\" xlink:href=\"#DejaVuSans-48\"/>\r\n       <use x=\"127.246094\" xlink:href=\"#DejaVuSans-48\"/>\r\n       <use x=\"190.869141\" xlink:href=\"#DejaVuSans-48\"/>\r\n      </g>\r\n     </g>\r\n    </g>\r\n    <g id=\"ytick_6\">\r\n     <g id=\"line2d_12\">\r\n      <g>\r\n       <use style=\"stroke:#000000;stroke-width:0.8;\" x=\"53.328125\" xlink:href=\"#m20eac44228\" y=\"104.86644\"/>\r\n      </g>\r\n     </g>\r\n     <g id=\"text_13\">\r\n      <!-- 1250 -->\r\n      <g transform=\"translate(20.878125 108.665659)scale(0.1 -0.1)\">\r\n       <use xlink:href=\"#DejaVuSans-49\"/>\r\n       <use x=\"63.623047\" xlink:href=\"#DejaVuSans-50\"/>\r\n       <use x=\"127.246094\" xlink:href=\"#DejaVuSans-53\"/>\r\n       <use x=\"190.869141\" xlink:href=\"#DejaVuSans-48\"/>\r\n      </g>\r\n     </g>\r\n    </g>\r\n    <g id=\"ytick_7\">\r\n     <g id=\"line2d_13\">\r\n      <g>\r\n       <use style=\"stroke:#000000;stroke-width:0.8;\" x=\"53.328125\" xlink:href=\"#m20eac44228\" y=\"77.888103\"/>\r\n      </g>\r\n     </g>\r\n     <g id=\"text_14\">\r\n      <!-- 1500 -->\r\n      <g transform=\"translate(20.878125 81.687322)scale(0.1 -0.1)\">\r\n       <use xlink:href=\"#DejaVuSans-49\"/>\r\n       <use x=\"63.623047\" xlink:href=\"#DejaVuSans-53\"/>\r\n       <use x=\"127.246094\" xlink:href=\"#DejaVuSans-48\"/>\r\n       <use x=\"190.869141\" xlink:href=\"#DejaVuSans-48\"/>\r\n      </g>\r\n     </g>\r\n    </g>\r\n    <g id=\"ytick_8\">\r\n     <g id=\"line2d_14\">\r\n      <g>\r\n       <use style=\"stroke:#000000;stroke-width:0.8;\" x=\"53.328125\" xlink:href=\"#m20eac44228\" y=\"50.909766\"/>\r\n      </g>\r\n     </g>\r\n     <g id=\"text_15\">\r\n      <!-- 1750 -->\r\n      <g transform=\"translate(20.878125 54.708985)scale(0.1 -0.1)\">\r\n       <use xlink:href=\"#DejaVuSans-49\"/>\r\n       <use x=\"63.623047\" xlink:href=\"#DejaVuSans-55\"/>\r\n       <use x=\"127.246094\" xlink:href=\"#DejaVuSans-53\"/>\r\n       <use x=\"190.869141\" xlink:href=\"#DejaVuSans-48\"/>\r\n      </g>\r\n     </g>\r\n    </g>\r\n    <g id=\"ytick_9\">\r\n     <g id=\"line2d_15\">\r\n      <g>\r\n       <use style=\"stroke:#000000;stroke-width:0.8;\" x=\"53.328125\" xlink:href=\"#m20eac44228\" y=\"23.93143\"/>\r\n      </g>\r\n     </g>\r\n     <g id=\"text_16\">\r\n      <!-- 2000 -->\r\n      <g transform=\"translate(20.878125 27.730648)scale(0.1 -0.1)\">\r\n       <use xlink:href=\"#DejaVuSans-50\"/>\r\n       <use x=\"63.623047\" xlink:href=\"#DejaVuSans-48\"/>\r\n       <use x=\"127.246094\" xlink:href=\"#DejaVuSans-48\"/>\r\n       <use x=\"190.869141\" xlink:href=\"#DejaVuSans-48\"/>\r\n      </g>\r\n     </g>\r\n    </g>\r\n    <g id=\"text_17\">\r\n     <!-- Number of Fires -->\r\n     <g transform=\"translate(14.798438 170.648281)rotate(-90)scale(0.1 -0.1)\">\r\n      <defs>\r\n       <path d=\"M 9.8125 72.90625 \r\nL 23.09375 72.90625 \r\nL 55.421875 11.921875 \r\nL 55.421875 72.90625 \r\nL 64.984375 72.90625 \r\nL 64.984375 0 \r\nL 51.703125 0 \r\nL 19.390625 60.984375 \r\nL 19.390625 0 \r\nL 9.8125 0 \r\nz\r\n\" id=\"DejaVuSans-78\"/>\r\n       <path d=\"M 8.5 21.578125 \r\nL 8.5 54.6875 \r\nL 17.484375 54.6875 \r\nL 17.484375 21.921875 \r\nQ 17.484375 14.15625 20.5 10.265625 \r\nQ 23.53125 6.390625 29.59375 6.390625 \r\nQ 36.859375 6.390625 41.078125 11.03125 \r\nQ 45.3125 15.671875 45.3125 23.6875 \r\nL 45.3125 54.6875 \r\nL 54.296875 54.6875 \r\nL 54.296875 0 \r\nL 45.3125 0 \r\nL 45.3125 8.40625 \r\nQ 42.046875 3.421875 37.71875 1 \r\nQ 33.40625 -1.421875 27.6875 -1.421875 \r\nQ 18.265625 -1.421875 13.375 4.4375 \r\nQ 8.5 10.296875 8.5 21.578125 \r\nz\r\nM 31.109375 56 \r\nz\r\n\" id=\"DejaVuSans-117\"/>\r\n       <path d=\"M 52 44.1875 \r\nQ 55.375 50.25 60.0625 53.125 \r\nQ 64.75 56 71.09375 56 \r\nQ 79.640625 56 84.28125 50.015625 \r\nQ 88.921875 44.046875 88.921875 33.015625 \r\nL 88.921875 0 \r\nL 79.890625 0 \r\nL 79.890625 32.71875 \r\nQ 79.890625 40.578125 77.09375 44.375 \r\nQ 74.3125 48.1875 68.609375 48.1875 \r\nQ 61.625 48.1875 57.5625 43.546875 \r\nQ 53.515625 38.921875 53.515625 30.90625 \r\nL 53.515625 0 \r\nL 44.484375 0 \r\nL 44.484375 32.71875 \r\nQ 44.484375 40.625 41.703125 44.40625 \r\nQ 38.921875 48.1875 33.109375 48.1875 \r\nQ 26.21875 48.1875 22.15625 43.53125 \r\nQ 18.109375 38.875 18.109375 30.90625 \r\nL 18.109375 0 \r\nL 9.078125 0 \r\nL 9.078125 54.6875 \r\nL 18.109375 54.6875 \r\nL 18.109375 46.1875 \r\nQ 21.1875 51.21875 25.484375 53.609375 \r\nQ 29.78125 56 35.6875 56 \r\nQ 41.65625 56 45.828125 52.96875 \r\nQ 50 49.953125 52 44.1875 \r\nz\r\n\" id=\"DejaVuSans-109\"/>\r\n       <path d=\"M 48.6875 27.296875 \r\nQ 48.6875 37.203125 44.609375 42.84375 \r\nQ 40.53125 48.484375 33.40625 48.484375 \r\nQ 26.265625 48.484375 22.1875 42.84375 \r\nQ 18.109375 37.203125 18.109375 27.296875 \r\nQ 18.109375 17.390625 22.1875 11.75 \r\nQ 26.265625 6.109375 33.40625 6.109375 \r\nQ 40.53125 6.109375 44.609375 11.75 \r\nQ 48.6875 17.390625 48.6875 27.296875 \r\nz\r\nM 18.109375 46.390625 \r\nQ 20.953125 51.265625 25.265625 53.625 \r\nQ 29.59375 56 35.59375 56 \r\nQ 45.5625 56 51.78125 48.09375 \r\nQ 58.015625 40.1875 58.015625 27.296875 \r\nQ 58.015625 14.40625 51.78125 6.484375 \r\nQ 45.5625 -1.421875 35.59375 -1.421875 \r\nQ 29.59375 -1.421875 25.265625 0.953125 \r\nQ 20.953125 3.328125 18.109375 8.203125 \r\nL 18.109375 0 \r\nL 9.078125 0 \r\nL 9.078125 75.984375 \r\nL 18.109375 75.984375 \r\nz\r\n\" id=\"DejaVuSans-98\"/>\r\n       <path id=\"DejaVuSans-32\"/>\r\n       <path d=\"M 30.609375 48.390625 \r\nQ 23.390625 48.390625 19.1875 42.75 \r\nQ 14.984375 37.109375 14.984375 27.296875 \r\nQ 14.984375 17.484375 19.15625 11.84375 \r\nQ 23.34375 6.203125 30.609375 6.203125 \r\nQ 37.796875 6.203125 41.984375 11.859375 \r\nQ 46.1875 17.53125 46.1875 27.296875 \r\nQ 46.1875 37.015625 41.984375 42.703125 \r\nQ 37.796875 48.390625 30.609375 48.390625 \r\nz\r\nM 30.609375 56 \r\nQ 42.328125 56 49.015625 48.375 \r\nQ 55.71875 40.765625 55.71875 27.296875 \r\nQ 55.71875 13.875 49.015625 6.21875 \r\nQ 42.328125 -1.421875 30.609375 -1.421875 \r\nQ 18.84375 -1.421875 12.171875 6.21875 \r\nQ 5.515625 13.875 5.515625 27.296875 \r\nQ 5.515625 40.765625 12.171875 48.375 \r\nQ 18.84375 56 30.609375 56 \r\nz\r\n\" id=\"DejaVuSans-111\"/>\r\n       <path d=\"M 37.109375 75.984375 \r\nL 37.109375 68.5 \r\nL 28.515625 68.5 \r\nQ 23.6875 68.5 21.796875 66.546875 \r\nQ 19.921875 64.59375 19.921875 59.515625 \r\nL 19.921875 54.6875 \r\nL 34.71875 54.6875 \r\nL 34.71875 47.703125 \r\nL 19.921875 47.703125 \r\nL 19.921875 0 \r\nL 10.890625 0 \r\nL 10.890625 47.703125 \r\nL 2.296875 47.703125 \r\nL 2.296875 54.6875 \r\nL 10.890625 54.6875 \r\nL 10.890625 58.5 \r\nQ 10.890625 67.625 15.140625 71.796875 \r\nQ 19.390625 75.984375 28.609375 75.984375 \r\nz\r\n\" id=\"DejaVuSans-102\"/>\r\n       <path d=\"M 9.8125 72.90625 \r\nL 51.703125 72.90625 \r\nL 51.703125 64.59375 \r\nL 19.671875 64.59375 \r\nL 19.671875 43.109375 \r\nL 48.578125 43.109375 \r\nL 48.578125 34.8125 \r\nL 19.671875 34.8125 \r\nL 19.671875 0 \r\nL 9.8125 0 \r\nz\r\n\" id=\"DejaVuSans-70\"/>\r\n       <path d=\"M 9.421875 54.6875 \r\nL 18.40625 54.6875 \r\nL 18.40625 0 \r\nL 9.421875 0 \r\nz\r\nM 9.421875 75.984375 \r\nL 18.40625 75.984375 \r\nL 18.40625 64.59375 \r\nL 9.421875 64.59375 \r\nz\r\n\" id=\"DejaVuSans-105\"/>\r\n       <path d=\"M 44.28125 53.078125 \r\nL 44.28125 44.578125 \r\nQ 40.484375 46.53125 36.375 47.5 \r\nQ 32.28125 48.484375 27.875 48.484375 \r\nQ 21.1875 48.484375 17.84375 46.4375 \r\nQ 14.5 44.390625 14.5 40.28125 \r\nQ 14.5 37.15625 16.890625 35.375 \r\nQ 19.28125 33.59375 26.515625 31.984375 \r\nL 29.59375 31.296875 \r\nQ 39.15625 29.25 43.1875 25.515625 \r\nQ 47.21875 21.78125 47.21875 15.09375 \r\nQ 47.21875 7.46875 41.1875 3.015625 \r\nQ 35.15625 -1.421875 24.609375 -1.421875 \r\nQ 20.21875 -1.421875 15.453125 -0.5625 \r\nQ 10.6875 0.296875 5.421875 2 \r\nL 5.421875 11.28125 \r\nQ 10.40625 8.6875 15.234375 7.390625 \r\nQ 20.0625 6.109375 24.8125 6.109375 \r\nQ 31.15625 6.109375 34.5625 8.28125 \r\nQ 37.984375 10.453125 37.984375 14.40625 \r\nQ 37.984375 18.0625 35.515625 20.015625 \r\nQ 33.0625 21.96875 24.703125 23.78125 \r\nL 21.578125 24.515625 \r\nQ 13.234375 26.265625 9.515625 29.90625 \r\nQ 5.8125 33.546875 5.8125 39.890625 \r\nQ 5.8125 47.609375 11.28125 51.796875 \r\nQ 16.75 56 26.8125 56 \r\nQ 31.78125 56 36.171875 55.265625 \r\nQ 40.578125 54.546875 44.28125 53.078125 \r\nz\r\n\" id=\"DejaVuSans-115\"/>\r\n      </defs>\r\n      <use xlink:href=\"#DejaVuSans-78\"/>\r\n      <use x=\"74.804688\" xlink:href=\"#DejaVuSans-117\"/>\r\n      <use x=\"138.183594\" xlink:href=\"#DejaVuSans-109\"/>\r\n      <use x=\"235.595703\" xlink:href=\"#DejaVuSans-98\"/>\r\n      <use x=\"299.072266\" xlink:href=\"#DejaVuSans-101\"/>\r\n      <use x=\"360.595703\" xlink:href=\"#DejaVuSans-114\"/>\r\n      <use x=\"401.708984\" xlink:href=\"#DejaVuSans-32\"/>\r\n      <use x=\"433.496094\" xlink:href=\"#DejaVuSans-111\"/>\r\n      <use x=\"494.677734\" xlink:href=\"#DejaVuSans-102\"/>\r\n      <use x=\"529.882812\" xlink:href=\"#DejaVuSans-32\"/>\r\n      <use x=\"561.669922\" xlink:href=\"#DejaVuSans-70\"/>\r\n      <use x=\"611.939453\" xlink:href=\"#DejaVuSans-105\"/>\r\n      <use x=\"639.722656\" xlink:href=\"#DejaVuSans-114\"/>\r\n      <use x=\"678.585938\" xlink:href=\"#DejaVuSans-101\"/>\r\n      <use x=\"740.109375\" xlink:href=\"#DejaVuSans-115\"/>\r\n     </g>\r\n    </g>\r\n   </g>\r\n   <g id=\"patch_53\">\r\n    <path d=\"M 53.328125 239.758125 \r\nL 53.328125 22.318125 \r\n\" style=\"fill:none;stroke:#000000;stroke-linecap:square;stroke-linejoin:miter;stroke-width:0.8;\"/>\r\n   </g>\r\n   <g id=\"patch_54\">\r\n    <path d=\"M 388.128125 239.758125 \r\nL 388.128125 22.318125 \r\n\" style=\"fill:none;stroke:#000000;stroke-linecap:square;stroke-linejoin:miter;stroke-width:0.8;\"/>\r\n   </g>\r\n   <g id=\"patch_55\">\r\n    <path d=\"M 53.328125 239.758125 \r\nL 388.128125 239.758125 \r\n\" style=\"fill:none;stroke:#000000;stroke-linecap:square;stroke-linejoin:miter;stroke-width:0.8;\"/>\r\n   </g>\r\n   <g id=\"patch_56\">\r\n    <path d=\"M 53.328125 22.318125 \r\nL 388.128125 22.318125 \r\n\" style=\"fill:none;stroke:#000000;stroke-linecap:square;stroke-linejoin:miter;stroke-width:0.8;\"/>\r\n   </g>\r\n   <g id=\"text_18\">\r\n    <!-- Washington Wildfires by Year (since 1970) -->\r\n    <g transform=\"translate(94.462813 16.318125)scale(0.12 -0.12)\">\r\n     <defs>\r\n      <path d=\"M 3.328125 72.90625 \r\nL 13.28125 72.90625 \r\nL 28.609375 11.28125 \r\nL 43.890625 72.90625 \r\nL 54.984375 72.90625 \r\nL 70.3125 11.28125 \r\nL 85.59375 72.90625 \r\nL 95.609375 72.90625 \r\nL 77.296875 0 \r\nL 64.890625 0 \r\nL 49.515625 63.28125 \r\nL 33.984375 0 \r\nL 21.578125 0 \r\nz\r\n\" id=\"DejaVuSans-87\"/>\r\n      <path d=\"M 54.890625 33.015625 \r\nL 54.890625 0 \r\nL 45.90625 0 \r\nL 45.90625 32.71875 \r\nQ 45.90625 40.484375 42.875 44.328125 \r\nQ 39.84375 48.1875 33.796875 48.1875 \r\nQ 26.515625 48.1875 22.3125 43.546875 \r\nQ 18.109375 38.921875 18.109375 30.90625 \r\nL 18.109375 0 \r\nL 9.078125 0 \r\nL 9.078125 75.984375 \r\nL 18.109375 75.984375 \r\nL 18.109375 46.1875 \r\nQ 21.34375 51.125 25.703125 53.5625 \r\nQ 30.078125 56 35.796875 56 \r\nQ 45.21875 56 50.046875 50.171875 \r\nQ 54.890625 44.34375 54.890625 33.015625 \r\nz\r\n\" id=\"DejaVuSans-104\"/>\r\n      <path d=\"M 54.890625 33.015625 \r\nL 54.890625 0 \r\nL 45.90625 0 \r\nL 45.90625 32.71875 \r\nQ 45.90625 40.484375 42.875 44.328125 \r\nQ 39.84375 48.1875 33.796875 48.1875 \r\nQ 26.515625 48.1875 22.3125 43.546875 \r\nQ 18.109375 38.921875 18.109375 30.90625 \r\nL 18.109375 0 \r\nL 9.078125 0 \r\nL 9.078125 54.6875 \r\nL 18.109375 54.6875 \r\nL 18.109375 46.1875 \r\nQ 21.34375 51.125 25.703125 53.5625 \r\nQ 30.078125 56 35.796875 56 \r\nQ 45.21875 56 50.046875 50.171875 \r\nQ 54.890625 44.34375 54.890625 33.015625 \r\nz\r\n\" id=\"DejaVuSans-110\"/>\r\n      <path d=\"M 45.40625 27.984375 \r\nQ 45.40625 37.75 41.375 43.109375 \r\nQ 37.359375 48.484375 30.078125 48.484375 \r\nQ 22.859375 48.484375 18.828125 43.109375 \r\nQ 14.796875 37.75 14.796875 27.984375 \r\nQ 14.796875 18.265625 18.828125 12.890625 \r\nQ 22.859375 7.515625 30.078125 7.515625 \r\nQ 37.359375 7.515625 41.375 12.890625 \r\nQ 45.40625 18.265625 45.40625 27.984375 \r\nz\r\nM 54.390625 6.78125 \r\nQ 54.390625 -7.171875 48.1875 -13.984375 \r\nQ 42 -20.796875 29.203125 -20.796875 \r\nQ 24.46875 -20.796875 20.265625 -20.09375 \r\nQ 16.0625 -19.390625 12.109375 -17.921875 \r\nL 12.109375 -9.1875 \r\nQ 16.0625 -11.328125 19.921875 -12.34375 \r\nQ 23.78125 -13.375 27.78125 -13.375 \r\nQ 36.625 -13.375 41.015625 -8.765625 \r\nQ 45.40625 -4.15625 45.40625 5.171875 \r\nL 45.40625 9.625 \r\nQ 42.625 4.78125 38.28125 2.390625 \r\nQ 33.9375 0 27.875 0 \r\nQ 17.828125 0 11.671875 7.65625 \r\nQ 5.515625 15.328125 5.515625 27.984375 \r\nQ 5.515625 40.671875 11.671875 48.328125 \r\nQ 17.828125 56 27.875 56 \r\nQ 33.9375 56 38.28125 53.609375 \r\nQ 42.625 51.21875 45.40625 46.390625 \r\nL 45.40625 54.6875 \r\nL 54.390625 54.6875 \r\nz\r\n\" id=\"DejaVuSans-103\"/>\r\n      <path d=\"M 18.3125 70.21875 \r\nL 18.3125 54.6875 \r\nL 36.8125 54.6875 \r\nL 36.8125 47.703125 \r\nL 18.3125 47.703125 \r\nL 18.3125 18.015625 \r\nQ 18.3125 11.328125 20.140625 9.421875 \r\nQ 21.96875 7.515625 27.59375 7.515625 \r\nL 36.8125 7.515625 \r\nL 36.8125 0 \r\nL 27.59375 0 \r\nQ 17.1875 0 13.234375 3.875 \r\nQ 9.28125 7.765625 9.28125 18.015625 \r\nL 9.28125 47.703125 \r\nL 2.6875 47.703125 \r\nL 2.6875 54.6875 \r\nL 9.28125 54.6875 \r\nL 9.28125 70.21875 \r\nz\r\n\" id=\"DejaVuSans-116\"/>\r\n      <path d=\"M 9.421875 75.984375 \r\nL 18.40625 75.984375 \r\nL 18.40625 0 \r\nL 9.421875 0 \r\nz\r\n\" id=\"DejaVuSans-108\"/>\r\n      <path d=\"M 45.40625 46.390625 \r\nL 45.40625 75.984375 \r\nL 54.390625 75.984375 \r\nL 54.390625 0 \r\nL 45.40625 0 \r\nL 45.40625 8.203125 \r\nQ 42.578125 3.328125 38.25 0.953125 \r\nQ 33.9375 -1.421875 27.875 -1.421875 \r\nQ 17.96875 -1.421875 11.734375 6.484375 \r\nQ 5.515625 14.40625 5.515625 27.296875 \r\nQ 5.515625 40.1875 11.734375 48.09375 \r\nQ 17.96875 56 27.875 56 \r\nQ 33.9375 56 38.25 53.625 \r\nQ 42.578125 51.265625 45.40625 46.390625 \r\nz\r\nM 14.796875 27.296875 \r\nQ 14.796875 17.390625 18.875 11.75 \r\nQ 22.953125 6.109375 30.078125 6.109375 \r\nQ 37.203125 6.109375 41.296875 11.75 \r\nQ 45.40625 17.390625 45.40625 27.296875 \r\nQ 45.40625 37.203125 41.296875 42.84375 \r\nQ 37.203125 48.484375 30.078125 48.484375 \r\nQ 22.953125 48.484375 18.875 42.84375 \r\nQ 14.796875 37.203125 14.796875 27.296875 \r\nz\r\n\" id=\"DejaVuSans-100\"/>\r\n      <path d=\"M 32.171875 -5.078125 \r\nQ 28.375 -14.84375 24.75 -17.8125 \r\nQ 21.140625 -20.796875 15.09375 -20.796875 \r\nL 7.90625 -20.796875 \r\nL 7.90625 -13.28125 \r\nL 13.1875 -13.28125 \r\nQ 16.890625 -13.28125 18.9375 -11.515625 \r\nQ 21 -9.765625 23.484375 -3.21875 \r\nL 25.09375 0.875 \r\nL 2.984375 54.6875 \r\nL 12.5 54.6875 \r\nL 29.59375 11.921875 \r\nL 46.6875 54.6875 \r\nL 56.203125 54.6875 \r\nz\r\n\" id=\"DejaVuSans-121\"/>\r\n      <path d=\"M 31 75.875 \r\nQ 24.46875 64.65625 21.28125 53.65625 \r\nQ 18.109375 42.671875 18.109375 31.390625 \r\nQ 18.109375 20.125 21.3125 9.0625 \r\nQ 24.515625 -2 31 -13.1875 \r\nL 23.1875 -13.1875 \r\nQ 15.875 -1.703125 12.234375 9.375 \r\nQ 8.59375 20.453125 8.59375 31.390625 \r\nQ 8.59375 42.28125 12.203125 53.3125 \r\nQ 15.828125 64.359375 23.1875 75.875 \r\nz\r\n\" id=\"DejaVuSans-40\"/>\r\n      <path d=\"M 48.78125 52.59375 \r\nL 48.78125 44.1875 \r\nQ 44.96875 46.296875 41.140625 47.34375 \r\nQ 37.3125 48.390625 33.40625 48.390625 \r\nQ 24.65625 48.390625 19.8125 42.84375 \r\nQ 14.984375 37.3125 14.984375 27.296875 \r\nQ 14.984375 17.28125 19.8125 11.734375 \r\nQ 24.65625 6.203125 33.40625 6.203125 \r\nQ 37.3125 6.203125 41.140625 7.25 \r\nQ 44.96875 8.296875 48.78125 10.40625 \r\nL 48.78125 2.09375 \r\nQ 45.015625 0.34375 40.984375 -0.53125 \r\nQ 36.96875 -1.421875 32.421875 -1.421875 \r\nQ 20.0625 -1.421875 12.78125 6.34375 \r\nQ 5.515625 14.109375 5.515625 27.296875 \r\nQ 5.515625 40.671875 12.859375 48.328125 \r\nQ 20.21875 56 33.015625 56 \r\nQ 37.15625 56 41.109375 55.140625 \r\nQ 45.0625 54.296875 48.78125 52.59375 \r\nz\r\n\" id=\"DejaVuSans-99\"/>\r\n      <path d=\"M 8.015625 75.875 \r\nL 15.828125 75.875 \r\nQ 23.140625 64.359375 26.78125 53.3125 \r\nQ 30.421875 42.28125 30.421875 31.390625 \r\nQ 30.421875 20.453125 26.78125 9.375 \r\nQ 23.140625 -1.703125 15.828125 -13.1875 \r\nL 8.015625 -13.1875 \r\nQ 14.5 -2 17.703125 9.0625 \r\nQ 20.90625 20.125 20.90625 31.390625 \r\nQ 20.90625 42.671875 17.703125 53.65625 \r\nQ 14.5 64.65625 8.015625 75.875 \r\nz\r\n\" id=\"DejaVuSans-41\"/>\r\n     </defs>\r\n     <use xlink:href=\"#DejaVuSans-87\"/>\r\n     <use x=\"92.501953\" xlink:href=\"#DejaVuSans-97\"/>\r\n     <use x=\"153.78125\" xlink:href=\"#DejaVuSans-115\"/>\r\n     <use x=\"205.880859\" xlink:href=\"#DejaVuSans-104\"/>\r\n     <use x=\"269.259766\" xlink:href=\"#DejaVuSans-105\"/>\r\n     <use x=\"297.042969\" xlink:href=\"#DejaVuSans-110\"/>\r\n     <use x=\"360.421875\" xlink:href=\"#DejaVuSans-103\"/>\r\n     <use x=\"423.898438\" xlink:href=\"#DejaVuSans-116\"/>\r\n     <use x=\"463.107422\" xlink:href=\"#DejaVuSans-111\"/>\r\n     <use x=\"524.289062\" xlink:href=\"#DejaVuSans-110\"/>\r\n     <use x=\"587.667969\" xlink:href=\"#DejaVuSans-32\"/>\r\n     <use x=\"619.455078\" xlink:href=\"#DejaVuSans-87\"/>\r\n     <use x=\"716.082031\" xlink:href=\"#DejaVuSans-105\"/>\r\n     <use x=\"743.865234\" xlink:href=\"#DejaVuSans-108\"/>\r\n     <use x=\"771.648438\" xlink:href=\"#DejaVuSans-100\"/>\r\n     <use x=\"835.125\" xlink:href=\"#DejaVuSans-102\"/>\r\n     <use x=\"870.330078\" xlink:href=\"#DejaVuSans-105\"/>\r\n     <use x=\"898.113281\" xlink:href=\"#DejaVuSans-114\"/>\r\n     <use x=\"936.976562\" xlink:href=\"#DejaVuSans-101\"/>\r\n     <use x=\"998.5\" xlink:href=\"#DejaVuSans-115\"/>\r\n     <use x=\"1050.599609\" xlink:href=\"#DejaVuSans-32\"/>\r\n     <use x=\"1082.386719\" xlink:href=\"#DejaVuSans-98\"/>\r\n     <use x=\"1145.863281\" xlink:href=\"#DejaVuSans-121\"/>\r\n     <use x=\"1205.042969\" xlink:href=\"#DejaVuSans-32\"/>\r\n     <use x=\"1236.830078\" xlink:href=\"#DejaVuSans-89\"/>\r\n     <use x=\"1284.664062\" xlink:href=\"#DejaVuSans-101\"/>\r\n     <use x=\"1346.1875\" xlink:href=\"#DejaVuSans-97\"/>\r\n     <use x=\"1407.466797\" xlink:href=\"#DejaVuSans-114\"/>\r\n     <use x=\"1448.580078\" xlink:href=\"#DejaVuSans-32\"/>\r\n     <use x=\"1480.367188\" xlink:href=\"#DejaVuSans-40\"/>\r\n     <use x=\"1519.380859\" xlink:href=\"#DejaVuSans-115\"/>\r\n     <use x=\"1571.480469\" xlink:href=\"#DejaVuSans-105\"/>\r\n     <use x=\"1599.263672\" xlink:href=\"#DejaVuSans-110\"/>\r\n     <use x=\"1662.642578\" xlink:href=\"#DejaVuSans-99\"/>\r\n     <use x=\"1717.623047\" xlink:href=\"#DejaVuSans-101\"/>\r\n     <use x=\"1779.146484\" xlink:href=\"#DejaVuSans-32\"/>\r\n     <use x=\"1810.933594\" xlink:href=\"#DejaVuSans-49\"/>\r\n     <use x=\"1874.556641\" xlink:href=\"#DejaVuSans-57\"/>\r\n     <use x=\"1938.179688\" xlink:href=\"#DejaVuSans-55\"/>\r\n     <use x=\"2001.802734\" xlink:href=\"#DejaVuSans-48\"/>\r\n     <use x=\"2065.425781\" xlink:href=\"#DejaVuSans-41\"/>\r\n    </g>\r\n   </g>\r\n  </g>\r\n </g>\r\n <defs>\r\n  <clipPath id=\"p6a850b48ee\">\r\n   <rect height=\"217.44\" width=\"334.8\" x=\"53.328125\" y=\"22.318125\"/>\r\n  </clipPath>\r\n </defs>\r\n</svg>\r\n",
      "image/png": "[encoded data removed]"
     },
     "metadata": {
      "needs_background": "light"
     }
    }
   ],
   "source": [
    "fig, ax = plt.subplots(1,1)\n",
    "ax.hist(mpl_dates, bins=50, color='lightblue', edgecolor='grey')\n",
    "locator = mdates.AutoDateLocator()\n",
    "ax.xaxis.set_major_locator(locator)\n",
    "ax.xaxis.set_major_formatter(mdates.AutoDateFormatter(locator))\n",
    "ax.set_title(\"Washington Wildfires by Year (since 1970)\")\n",
    "ax.set_xlabel('Year')  # Add an x-label to the axes.\n",
    "ax.set_ylabel('Number of Fires')  # Add a y-label to the axes.\n",
    "plt.savefig(\"img/fires_by_year.png\", transparent=False, facecolor='w', edgecolor='w' )\n",
    "plt.show()\n"
   ]
  }
 ]
}
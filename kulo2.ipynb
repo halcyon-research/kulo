{
 "metadata": {
  "language_info": {
   "codemirror_mode": {
    "name": "ipython",
    "version": 3
   },
   "file_extension": ".py",
   "mimetype": "text/x-python",
   "name": "python",
   "nbconvert_exporter": "python",
   "pygments_lexer": "ipython3",
   "version": "3.8.7-final"
  },
  "orig_nbformat": 2,
  "kernelspec": {
   "name": "python3",
   "display_name": "Python 3.8.7 64-bit",
   "metadata": {
    "interpreter": {
     "hash": "41dac9bba6d635f619ae6c05fd260bcf9133cdb0cf546411b8b40639019fde47"
    }
   }
  }
 },
 "nbformat": 4,
 "nbformat_minor": 2,
 "cells": [
  {
   "source": [
    "# Kulo"
   ],
   "cell_type": "markdown",
   "metadata": {}
  },
  {
   "cell_type": "code",
   "execution_count": 1,
   "metadata": {},
   "outputs": [
    {
     "output_type": "stream",
     "name": "stdout",
     "text": [
      "kulo pt. 2\n"
     ]
    }
   ],
   "source": [
    "print(\"kulo pt. 2\")"
   ]
  },
  {
   "source": [
    "## 1. Import geojson (parsing .geojson files)"
   ],
   "cell_type": "markdown",
   "metadata": {}
  },
  {
   "cell_type": "code",
   "execution_count": 2,
   "metadata": {},
   "outputs": [],
   "source": [
    "import geojson"
   ]
  },
  {
   "source": [
    "## 2. Create load_data function to load geojson data"
   ],
   "cell_type": "markdown",
   "metadata": {}
  },
  {
   "cell_type": "code",
   "execution_count": 3,
   "metadata": {},
   "outputs": [],
   "source": [
    "def load_data(filename):\n",
    "    \"\"\"\n",
    "    Loads GeoJson Data from \"filename\"\n",
    "    \"\"\"\n",
    "    with open(filename) as f:\n",
    "        data = geojson.load(f)\n",
    "    return data\n"
   ]
  },
  {
   "source": [
    "## 3. load data from WA DNR 1970-2007 fire statistics"
   ],
   "cell_type": "markdown",
   "metadata": {}
  },
  {
   "cell_type": "code",
   "execution_count": 4,
   "metadata": {},
   "outputs": [],
   "source": [
    "older_fire_data = load_data(\"data/DNR_Fire_Statistics_1970-2007.geojson\")"
   ]
  },
  {
   "source": [
    "## 3.5. load data from WA DNR 2008-present fire statistics"
   ],
   "cell_type": "markdown",
   "metadata": {}
  },
  {
   "cell_type": "code",
   "execution_count": 5,
   "metadata": {},
   "outputs": [],
   "source": [
    "newer_fire_data = load_data(\"data/DNR_Fire_Statistics_1970-2007.geojson\")"
   ]
  },
  {
   "source": [
    "## 4. pull out \"features\" section of data (that's where fire data is)"
   ],
   "cell_type": "markdown",
   "metadata": {}
  },
  {
   "cell_type": "code",
   "execution_count": 6,
   "metadata": {},
   "outputs": [],
   "source": [
    "old_fire_data = older_fire_data[\"features\"]\n",
    "new_fire_data = newer_fire_data[\"features\"]"
   ]
  },
  {
   "source": [
    "## 5. make sure both datasets are imported by checking total number of fires "
   ],
   "cell_type": "markdown",
   "metadata": {}
  },
  {
   "cell_type": "code",
   "execution_count": 7,
   "metadata": {},
   "outputs": [
    {
     "output_type": "stream",
     "name": "stdout",
     "text": [
      "76232\n"
     ]
    }
   ],
   "source": [
    "# get total number of fires\n",
    "old_total = len(old_fire_data)\n",
    "new_total = len(new_fire_data)\n",
    "print(old_total + new_total)"
   ]
  },
  {
   "source": [
    "## 6. make clean dataset from both pieces of data (only data-points we need)"
   ],
   "cell_type": "markdown",
   "metadata": {}
  },
  {
   "cell_type": "code",
   "execution_count": 8,
   "metadata": {},
   "outputs": [],
   "source": [
    "cleaned_fire_data = []\n",
    "for fire in old_fire_data:\n",
    "    date = fire[\"properties\"][\"START_DT\"]\n",
    "    acres = fire[\"properties\"][\"ACRES_BURNED\"]\n",
    "    lon = fire[\"geometry\"][\"coordinates\"][0]\n",
    "    lat = fire[\"geometry\"][\"coordinates\"][1]\n",
    "    cleaned_fire_data.append((date, acres, lat, lon))\n",
    "\n",
    "for fire in new_fire_data: \n",
    "    date = fire[\"properties\"][\"START_DT\"]\n",
    "    acres = fire[\"properties\"][\"ACRES_BURNED\"]\n",
    "    lon = fire[\"geometry\"][\"coordinates\"][0]\n",
    "    lat = fire[\"geometry\"][\"coordinates\"][1]\n",
    "    cleaned_fire_data.append((date, acres, lat, lon))"
   ]
  },
  {
   "cell_type": "code",
   "execution_count": 10,
   "metadata": {},
   "outputs": [
    {
     "output_type": "stream",
     "name": "stdout",
     "text": [
      "76232\n"
     ]
    }
   ],
   "source": [
    "print(len(cleaned_fire_data))"
   ]
  },
  {
   "source": [
    "## 7. import csv (comma-separated values)"
   ],
   "cell_type": "markdown",
   "metadata": {}
  },
  {
   "cell_type": "code",
   "execution_count": 11,
   "metadata": {},
   "outputs": [],
   "source": [
    "import csv"
   ]
  },
  {
   "source": [
    "## 8. save cleaned data to csv"
   ],
   "cell_type": "markdown",
   "metadata": {}
  },
  {
   "cell_type": "code",
   "execution_count": 15,
   "metadata": {},
   "outputs": [],
   "source": [
    "with open('data/clean_fire_data.csv', 'w', newline='') as csvfile:\n",
    "    writer = csv.writer(csvfile,)\n",
    "    writer.writerow((\"date\", \"acres\", \"lat\", \"lon\"))\n",
    "    for fire in cleaned_fire_data:\n",
    "        writer.writerow(fire)"
   ]
  }
 ]
}